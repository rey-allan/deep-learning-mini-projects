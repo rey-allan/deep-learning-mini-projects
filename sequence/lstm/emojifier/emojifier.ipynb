{
 "cells": [
  {
   "cell_type": "markdown",
   "metadata": {},
   "source": [
    "# Emojifier\n",
    "\n",
    "Selecting the best emoji for a sentence using LSTM's and word embeddings.\n",
    "\n",
    "_PyTorch implementation of the assignment of Course 5 of Coursera's Deep Learning Specialization_."
   ]
  },
  {
   "cell_type": "markdown",
   "metadata": {},
   "source": [
    "## Imports"
   ]
  },
  {
   "cell_type": "code",
   "execution_count": 1,
   "metadata": {},
   "outputs": [],
   "source": [
    "%matplotlib inline\n",
    "\n",
    "import emoji\n",
    "import matplotlib.pyplot as plt\n",
    "import numpy as np\n",
    "import pandas as pd\n",
    "import random\n",
    "import torch\n",
    "import torch.nn as nn\n",
    "import torch.nn.functional as F\n",
    "import torch.optim as optim\n",
    "\n",
    "from torch.utils.data import DataLoader, Dataset"
   ]
  },
  {
   "cell_type": "markdown",
   "metadata": {},
   "source": [
    "## Reproducibility"
   ]
  },
  {
   "cell_type": "code",
   "execution_count": 2,
   "metadata": {},
   "outputs": [],
   "source": [
    "seed = 24\n",
    "np.random.seed(seed)\n",
    "random.seed(seed)\n",
    "torch.manual_seed(seed);"
   ]
  },
  {
   "cell_type": "markdown",
   "metadata": {},
   "source": [
    "## Device Configuration"
   ]
  },
  {
   "cell_type": "code",
   "execution_count": 3,
   "metadata": {},
   "outputs": [],
   "source": [
    "device = torch.device('cuda:0' if torch.cuda.is_available() else 'cpu')"
   ]
  },
  {
   "cell_type": "markdown",
   "metadata": {},
   "source": [
    "## Dataset\n",
    "\n",
    "We will create a custom dataset that will provide the following:\n",
    "\n",
    "- Each sample is a sentence, represented as an array of word indices where each index comes from a vocabulary provided by GloVe vectors\n",
    "- Each corresponding target is the index of the emoji that best matches the sentence\n",
    "- 132 training examples\n",
    "- 55 testing examples\n",
    "\n",
    "The following image shows an example of what the dataset looks like.\n",
    "\n",
    "![](img/emoji_dataset.png)\n",
    "\n",
    "### GloVe Vectors\n",
    "\n",
    "We will use pre-trained GloVe vectors that can be downloaded from the [official site](https://nlp.stanford.edu/projects/glove/). Specifically, we will use the `glove.6B.50d.txt` file (6B tokens and vectors of dimension 50) from the `glove.6b.zip` file. We will define two dictionaries to map a word to its GloVe index, and an index to its GloVe vectors. As part of this dictionaries we will add an extra entry for the `<PAD>` value used for padding the sentences to be of equal length.\n",
    "\n",
    "_Note: See this [blog post](https://medium.com/@martinpella/how-to-use-pre-trained-word-embeddings-in-pytorch-71ca59249f76) for an explanation on how to use GloVe vectors in Pytorch._"
   ]
  },
  {
   "cell_type": "code",
   "execution_count": 4,
   "metadata": {},
   "outputs": [],
   "source": [
    "word_to_ix = {}\n",
    "vectors = {}\n",
    "\n",
    "with open('data/glove.6B.50d.txt', 'r') as f:\n",
    "    words = set()\n",
    "    vectors = {}\n",
    "\n",
    "    for i, line in enumerate(f):\n",
    "        line = line.strip().split()\n",
    "        word = line[0]\n",
    "        vectors[i] = np.array(line[1:], dtype=np.float64)\n",
    "        word_to_ix[word] = i\n",
    "\n",
    "# Add the padding value\n",
    "word_to_ix['<PAD>'] = len(word_to_ix)"
   ]
  },
  {
   "cell_type": "code",
   "execution_count": 5,
   "metadata": {},
   "outputs": [],
   "source": [
    "def collate_fn(batch):\n",
    "    # We define a custom collate_fn so that we can pad the sentences to have the same length\n",
    "    # See: https://ryankresse.com/dealing-with-pad-tokens-in-sequence-models-loss-masking-and-pytorchs-packed-sequence/\n",
    "    sentences, labels = zip(*batch)\n",
    "\n",
    "    # Compute the original lengths which will be useful for packing the padded sequence\n",
    "    lengths = [len(s) for s in sentences]\n",
    "    # Pad sentences into batch of shape (batch_size, max_len)\n",
    "    sentences = nn.utils.rnn.pad_sequence(sentences, batch_first=True, padding_value=word_to_ix['<PAD>'])\n",
    "    \n",
    "    # Merge labels into batch of shape (batch_size,)\n",
    "    labels = torch.stack(labels, 0)\n",
    "   \n",
    "    return sentences, labels, lengths\n",
    "\n",
    "\n",
    "class EmojiDataset(Dataset):\n",
    "    def __init__(self, mode='train'):\n",
    "        dataset = pd.read_csv(f'data/{mode}_emoji.csv', header=None)\n",
    "        self.X = [torch.tensor([word_to_ix[w] for w in s.strip().lower().split()]) for s in dataset[0].values]\n",
    "        self.y = dataset[1].values\n",
    "\n",
    "    def __len__(self):\n",
    "        return len(self.X)\n",
    "\n",
    "    def __getitem__(self, idx):\n",
    "        if torch.is_tensor(idx):\n",
    "            idx = idx.tolist()\n",
    "\n",
    "        X = self.X[idx]\n",
    "        y = torch.tensor(self.y[idx]).long()\n",
    "\n",
    "        return X, y"
   ]
  },
  {
   "cell_type": "markdown",
   "metadata": {},
   "source": [
    "For display purposes, we define a dictionary of labels to the actual emoji symbols. This is the same as the one used in the Deep Learning Specialization assignment."
   ]
  },
  {
   "cell_type": "code",
   "execution_count": 6,
   "metadata": {},
   "outputs": [],
   "source": [
    "label_to_emoji = {\n",
    "    '0': '\\u2764\\uFE0F',  # :heart: prints a black instead of red heart depending on the font\n",
    "    '1': ':baseball:',\n",
    "    '2': ':smile:',\n",
    "    '3': ':disappointed:',\n",
    "    '4': ':fork_and_knife:'\n",
    "}"
   ]
  },
  {
   "cell_type": "markdown",
   "metadata": {},
   "source": [
    "We can now create the training and testing sets."
   ]
  },
  {
   "cell_type": "code",
   "execution_count": 7,
   "metadata": {},
   "outputs": [],
   "source": [
    "training = DataLoader(EmojiDataset(mode='train'), batch_size=32, shuffle=True, num_workers=4, collate_fn=collate_fn)\n",
    "testing = DataLoader(EmojiDataset(mode='test'), batch_size=32, shuffle=True, num_workers=4, collate_fn=collate_fn)"
   ]
  },
  {
   "cell_type": "markdown",
   "metadata": {},
   "source": [
    "## Model\n",
    "\n",
    "We'll use an LSTM with the following structure:\n",
    "\n",
    "- An embedding layer that converts the indices of a sentence into GloVe vectors of dimension 50\n",
    "- A first LSTM layer with 128 units followed by a Dropout layer\n",
    "- A second LSTM layer with 128 units\n",
    "- One single output, at the last timestep, that follows the LSTM cell with a Dropout layer and a softmax output function\n",
    "\n",
    "This structure means our model is of type **sequence-to-one**; producing one single output after having processed the input sequence $T_x$.\n",
    "\n",
    "![](img/model.png)"
   ]
  },
  {
   "cell_type": "code",
   "execution_count": 8,
   "metadata": {},
   "outputs": [],
   "source": [
    "# The embedding layer generated from the pre-trained GloVe vectors\n",
    "# See: https://medium.com/@martinpella/how-to-use-pre-trained-word-embeddings-in-pytorch-71ca59249f76\n",
    "class GloVeEmbedding(nn.Module):\n",
    "    def __init__(self):\n",
    "        super(GloVeEmbedding, self).__init__()\n",
    "\n",
    "        # Generate the matrix of weights as a lookup table from word indices to the GloVe vectors\n",
    "        weights = np.zeros((len(word_to_ix), 50))\n",
    "        for _, idx in word_to_ix.items():\n",
    "            # If the index is not in GloVe (e.g. the padding value) we use all zeros\n",
    "            weights[idx, :] = vectors[idx] if idx in vectors else np.zeros(50)\n",
    "\n",
    "        # Instantiate the pre-trained embedding\n",
    "        self.embedding = nn.Embedding.from_pretrained(torch.tensor(weights).float())\n",
    "\n",
    "    def forward(self, input):\n",
    "        return self.embedding(input)\n",
    "\n",
    "\n",
    "class Model(nn.Module):\n",
    "    def __init__(self):\n",
    "        super(Model, self).__init__()\n",
    "        \n",
    "        self.embedding = GloVeEmbedding()\n",
    "        # The first LSTM layer expects sequences of size `embedding_size=50`\n",
    "        self.lstm = nn.LSTM(input_size=50, hidden_size=128, num_layers=2, dropout=0.5, batch_first=True)\n",
    "        # This dropout will be used for the output since PyTorch doesn't introduce a dropout layer after the last LSTM layer\n",
    "        # See: https://pytorch.org/docs/stable/generated/torch.nn.LSTM.html#torch.nn.LSTM\n",
    "        self.dropout = nn.Dropout(p=0.5)\n",
    "        # Output layer to convert to target space (5 different emojis)\n",
    "        self.out = nn.Linear(in_features=128, out_features=5)\n",
    "        # We don't define a softmax output layer explicitly because it's combined with the loss function\n",
    "\n",
    "    def forward(self, input, lengths):\n",
    "        # Embed\n",
    "        embeddings = self.embedding(input)\n",
    "        # Pack the padded sequence so that the layers ignore the padded values during backprop\n",
    "        # See: https://ryankresse.com/dealing-with-pad-tokens-in-sequence-models-loss-masking-and-pytorchs-packed-sequence/\n",
    "        packed = nn.utils.rnn.pack_padded_sequence(embeddings, lengths, batch_first=True, enforce_sorted=False)\n",
    "        # Pass through LSTM\n",
    "        # The activations are not passed in so that they are initialized to zero; we don't need to pass the previous activations\n",
    "        # because we are training in batches which allows the model to learn enough before the state is re-initialized;\n",
    "        # if we were training using a single example then we would need to pass the previous state (like we did in the dinosaur name\n",
    "        # generation project) because with one example the model can't learn enough for the state to be reset every time\n",
    "        hiddens, state = self.lstm(packed)\n",
    "        # Apply dropout to the output at timestep T of the last layer\n",
    "        h_T, _ = state\n",
    "        h_T = self.dropout(h_T[-1, :, :])\n",
    "        # Convert to target space\n",
    "        output = self.out(h_T)\n",
    "\n",
    "        return output"
   ]
  },
  {
   "cell_type": "code",
   "execution_count": 9,
   "metadata": {},
   "outputs": [
    {
     "name": "stdout",
     "output_type": "stream",
     "text": [
      "Model(\n",
      "  (embedding): GloVeEmbedding(\n",
      "    (embedding): Embedding(400001, 50)\n",
      "  )\n",
      "  (lstm): LSTM(50, 128, num_layers=2, batch_first=True, dropout=0.5)\n",
      "  (dropout): Dropout(p=0.5, inplace=False)\n",
      "  (out): Linear(in_features=128, out_features=5, bias=True)\n",
      ")\n"
     ]
    }
   ],
   "source": [
    "model = Model()\n",
    "print(model)"
   ]
  },
  {
   "cell_type": "markdown",
   "metadata": {},
   "source": [
    "## Optimization\n",
    "\n",
    "We'll use Adam for training the model with the cross-entropy loss."
   ]
  },
  {
   "cell_type": "code",
   "execution_count": 10,
   "metadata": {},
   "outputs": [],
   "source": [
    "loss_fn =  nn.CrossEntropyLoss()\n",
    "optimizer = optim.Adam(model.parameters(), lr=0.01)"
   ]
  },
  {
   "cell_type": "markdown",
   "metadata": {},
   "source": [
    "## Training\n",
    "\n",
    "Time to train the model!"
   ]
  },
  {
   "cell_type": "code",
   "execution_count": 11,
   "metadata": {},
   "outputs": [],
   "source": [
    "# Training configuration\n",
    "epochs = 40"
   ]
  },
  {
   "cell_type": "code",
   "execution_count": 12,
   "metadata": {},
   "outputs": [
    {
     "name": "stdout",
     "output_type": "stream",
     "text": [
      "[0/40]\tLoss: 1.5671966075897217\n",
      "[1/40]\tLoss: 1.4753220081329346\n",
      "[2/40]\tLoss: 1.1786296367645264\n",
      "[3/40]\tLoss: 1.1316914558410645\n",
      "[4/40]\tLoss: 1.1219285726547241\n",
      "[5/40]\tLoss: 0.8289729356765747\n",
      "[6/40]\tLoss: 0.634110689163208\n",
      "[7/40]\tLoss: 0.560330867767334\n",
      "[8/40]\tLoss: 0.5661546587944031\n",
      "[9/40]\tLoss: 0.6716629862785339\n",
      "[10/40]\tLoss: 0.3340730369091034\n",
      "[11/40]\tLoss: 0.30723971128463745\n",
      "[12/40]\tLoss: 0.2479889839887619\n",
      "[13/40]\tLoss: 0.16478204727172852\n",
      "[14/40]\tLoss: 0.14478492736816406\n",
      "[15/40]\tLoss: 0.1768120974302292\n",
      "[16/40]\tLoss: 0.13828134536743164\n",
      "[17/40]\tLoss: 0.11401889473199844\n",
      "[18/40]\tLoss: 0.10209661722183228\n",
      "[19/40]\tLoss: 0.08762462437152863\n",
      "[20/40]\tLoss: 0.032750204205513\n",
      "[21/40]\tLoss: 0.06966733187437057\n",
      "[22/40]\tLoss: 0.05570991709828377\n",
      "[23/40]\tLoss: 0.03655354306101799\n",
      "[24/40]\tLoss: 0.023768045008182526\n",
      "[25/40]\tLoss: 0.015164835378527641\n",
      "[26/40]\tLoss: 0.01278142910450697\n",
      "[27/40]\tLoss: 0.0065477630123496056\n",
      "[28/40]\tLoss: 0.01093561016023159\n",
      "[29/40]\tLoss: 0.016081945970654488\n",
      "[30/40]\tLoss: 0.005041820462793112\n",
      "[31/40]\tLoss: 0.01315411925315857\n",
      "[32/40]\tLoss: 0.004055744502693415\n",
      "[33/40]\tLoss: 0.004411798901855946\n",
      "[34/40]\tLoss: 0.009508808143436909\n",
      "[35/40]\tLoss: 0.0016641013789922\n",
      "[36/40]\tLoss: 0.0013870381517335773\n",
      "[37/40]\tLoss: 0.00965103879570961\n",
      "[38/40]\tLoss: 0.003894637105986476\n",
      "[39/40]\tLoss: 0.021863501518964767\n"
     ]
    },
    {
     "data": {
      "image/png": "[encoded data removed]",
      "text/plain": [
       "<Figure size 432x288 with 1 Axes>"
      ]
     },
     "metadata": {
      "needs_background": "light"
     },
     "output_type": "display_data"
    }
   ],
   "source": [
    "# Main training loop\n",
    "model = model.to(device)\n",
    "total_losses = []\n",
    "\n",
    "for epoch in range(epochs):\n",
    "    losses = []\n",
    "\n",
    "    for samples, targets, lengths in training:\n",
    "        optimizer.zero_grad()\n",
    "\n",
    "        samples = samples.to(device)\n",
    "        targets = targets.to(device)\n",
    "\n",
    "        output = model(samples, lengths)\n",
    "        loss = loss_fn(output, targets)\n",
    "\n",
    "        loss.backward()\n",
    "        optimizer.step()\n",
    "        \n",
    "        # Detach the loss to avoid saving any more computations on it\n",
    "        losses.append(loss.detach().cpu().numpy())\n",
    "\n",
    "    total_losses.append(np.mean(losses))\n",
    "    print(f'[{epoch}/{epochs}]\\tLoss: {total_losses[-1]}')\n",
    "\n",
    "# Save the model\n",
    "torch.save(model.state_dict(), 'model/model.pt')\n",
    "\n",
    "# Plot the losses\n",
    "plt.plot(np.squeeze(total_losses))\n",
    "plt.ylabel('Avg. Loss')\n",
    "plt.xlabel('Epochs')\n",
    "plt.title('Avg. Loss per Epoch')\n",
    "plt.show()"
   ]
  },
  {
   "cell_type": "markdown",
   "metadata": {},
   "source": [
    "## Testing\n",
    "\n",
    "Now that we have trained our model, we can evaluate it against the testing set."
   ]
  },
  {
   "cell_type": "code",
   "execution_count": 13,
   "metadata": {},
   "outputs": [
    {
     "name": "stdout",
     "output_type": "stream",
     "text": [
      "Accuracy = 0.8854166666666667\n"
     ]
    }
   ],
   "source": [
    "# Load the trained model\n",
    "model = Model()\n",
    "model.load_state_dict(torch.load('model/model.pt'))\n",
    "# Always set the mode to `eval` for inference\n",
    "model.eval()\n",
    "model = model.to(device)\n",
    "\n",
    "accuracies = []\n",
    "\n",
    "# Main inference loop\n",
    "with torch.no_grad():\n",
    "    for samples, targets, lengths in testing:\n",
    "        output = model(samples.to(device), lengths)\n",
    "\n",
    "        # Compute the probabilities of each emoji label via softmax\n",
    "        probs = F.softmax(output, dim=-1)\n",
    "        # Use the label of the highest probability\n",
    "        preds = np.argmax(probs.detach().cpu().numpy(), axis=-1)\n",
    "\n",
    "        # Remove extra dimension, i.e. flatten as vector\n",
    "        targets = np.squeeze(targets.detach().cpu().numpy())\n",
    "\n",
    "        # Evaluate using accuracy\n",
    "        accuracies.append(np.mean(preds == targets))\n",
    "\n",
    "print(f'Accuracy = {np.mean(accuracies)}')"
   ]
  },
  {
   "cell_type": "markdown",
   "metadata": {},
   "source": [
    "Finally, let's try it with our own example."
   ]
  },
  {
   "cell_type": "code",
   "execution_count": 14,
   "metadata": {},
   "outputs": [
    {
     "name": "stdout",
     "output_type": "stream",
     "text": [
      "great news 😄\n"
     ]
    }
   ],
   "source": [
    "sentence = 'great news'\n",
    "input = torch.tensor([word_to_ix[w] for w in sentence.strip().lower().split()])\n",
    "# Add `batch_size=1` dimension\n",
    "input = input.unsqueeze(0)\n",
    "\n",
    "with torch.no_grad():\n",
    "    output = model(input.to(device), [len(sentence)])\n",
    "    probs = F.softmax(output, dim=-1)\n",
    "    label = np.argmax(probs.detach().cpu().numpy())\n",
    "\n",
    "print(f'{sentence} {emoji.emojize(label_to_emoji[str(label)], use_aliases=True)}')"
   ]
  }
 ],
 "metadata": {
  "kernelspec": {
   "display_name": "Python 3",
   "language": "python",
   "name": "python3"
  },
  "language_info": {
   "codemirror_mode": {
    "name": "ipython",
    "version": 3
   },
   "file_extension": ".py",
   "mimetype": "text/x-python",
   "name": "python",
   "nbconvert_exporter": "python",
   "pygments_lexer": "ipython3",
   "version": "3.8.5"
  }
 },
 "nbformat": 4,
 "nbformat_minor": 4
}
