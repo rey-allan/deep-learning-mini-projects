{
 "cells": [
  {
   "cell_type": "markdown",
   "metadata": {},
   "source": [
    "# Jazz Improvisation\n",
    "\n",
    "Generating Jazz solos using LSTM's.\n",
    "\n",
    "_PyTorch implementation of the assignment of Course 5 of Coursera's Deep Learning Specialization_."
   ]
  },
  {
   "cell_type": "markdown",
   "metadata": {},
   "source": [
    "## Imports"
   ]
  },
  {
   "cell_type": "code",
   "execution_count": 1,
   "metadata": {},
   "outputs": [],
   "source": [
    "%matplotlib inline\n",
    "\n",
    "import matplotlib.pyplot as plt\n",
    "import numpy as np\n",
    "import random\n",
    "import torch\n",
    "import torch.nn as nn\n",
    "import torch.nn.functional as F\n",
    "import torch.optim as optim\n",
    "\n",
    "from data import generate_music, load_data\n",
    "from torch.utils.data import DataLoader, Dataset"
   ]
  },
  {
   "cell_type": "markdown",
   "metadata": {},
   "source": [
    "## Reproducibility"
   ]
  },
  {
   "cell_type": "code",
   "execution_count": 2,
   "metadata": {},
   "outputs": [],
   "source": [
    "seed = 24\n",
    "random.seed(seed)\n",
    "torch.manual_seed(seed);"
   ]
  },
  {
   "cell_type": "markdown",
   "metadata": {},
   "source": [
    "## Device Configuration"
   ]
  },
  {
   "cell_type": "code",
   "execution_count": 3,
   "metadata": {},
   "outputs": [],
   "source": [
    "device = torch.device('cuda:0' if torch.cuda.is_available() else 'cpu')"
   ]
  },
  {
   "cell_type": "markdown",
   "metadata": {},
   "source": [
    "## Dataset\n",
    "\n",
    "We will create a custom dataset that will provide the following:\n",
    "\n",
    "- Each sample is a sequence of **30 musical values** (or notes); each one represented as a **one-hot vector** of 78 unique values\n",
    "- Each corresponding target is the same as the training sample, shifted one to the right\n",
    "  - We shift the musical values because we want to predict the next most likely value given some previous one\n",
    "- 60 training examples\n",
    "- 78 unique musical values"
   ]
  },
  {
   "cell_type": "code",
   "execution_count": 4,
   "metadata": {},
   "outputs": [],
   "source": [
    "n_values = 78"
   ]
  },
  {
   "cell_type": "code",
   "execution_count": 5,
   "metadata": {},
   "outputs": [],
   "source": [
    "class JazzDataset(Dataset):\n",
    "    def __init__(self):\n",
    "        self.X, self.y, _, _ = load_data()\n",
    "\n",
    "    def __len__(self):\n",
    "        return self.X.shape[0]\n",
    "\n",
    "    def __getitem__(self, idx):\n",
    "        if torch.is_tensor(idx):\n",
    "            idx = idx.tolist()\n",
    "\n",
    "        X = torch.tensor(self.X[idx, :]).float()\n",
    "        y = torch.tensor(self.y[idx]).long()\n",
    "\n",
    "        return X, y"
   ]
  },
  {
   "cell_type": "markdown",
   "metadata": {},
   "source": [
    "We can now create the training set."
   ]
  },
  {
   "cell_type": "code",
   "execution_count": 6,
   "metadata": {},
   "outputs": [],
   "source": [
    "training = DataLoader(JazzDataset(), batch_size=30, shuffle=True, num_workers=4)"
   ]
  },
  {
   "cell_type": "markdown",
   "metadata": {},
   "source": [
    "## Model\n",
    "\n",
    "We'll use an LSTM with a **single** recurrent layer with **64 units**, and a **softmax** output function at _each_ RNN cell. This means our model expects $T_x = T_y$, i.e. the length of the input sequence should match the length of the target sequence. The reason is that we are generating a model using the _same_ music sample as both input and target (shifted).\n",
    "\n",
    "![](img/model.png)"
   ]
  },
  {
   "cell_type": "code",
   "execution_count": 7,
   "metadata": {},
   "outputs": [],
   "source": [
    "class Model(nn.Module):\n",
    "    def __init__(self):\n",
    "        super(Model, self).__init__()\n",
    "\n",
    "        # LSTM layer expects one-hot encoded sequences of size `n_values`\n",
    "        self.lstm = nn.LSTM(input_size=n_values, hidden_size=64, batch_first=True)\n",
    "        # Output layer to convert to target space (`n_values` note classes)\n",
    "        self.out = nn.Linear(in_features=64, out_features=n_values)\n",
    "        # We don't define a softmax output layer explicitly because it's combined with the loss function\n",
    "\n",
    "    def forward(self, input, state):\n",
    "        # Pass through LSTM along with the previous hidden activations and cell state\n",
    "        # Passing in the previous hidden activations and cell states is needed for the model to continue learning\n",
    "        # if they aren't passed, the activations/cell states are reset to zero which effectively erases any learnings from the model!\n",
    "        output, state = self.lstm(input, state)\n",
    "        # Stack outputs from LSTM (i.e. batch_size * seq_len, hidden_size) and convert to target space\n",
    "        output = self.out(output.contiguous().view(-1, 64))\n",
    "\n",
    "        return output, state"
   ]
  },
  {
   "cell_type": "code",
   "execution_count": 8,
   "metadata": {},
   "outputs": [
    {
     "name": "stdout",
     "output_type": "stream",
     "text": [
      "Model(\n",
      "  (lstm): LSTM(78, 64, batch_first=True)\n",
      "  (out): Linear(in_features=64, out_features=78, bias=True)\n",
      ")\n"
     ]
    }
   ],
   "source": [
    "model = Model()\n",
    "print(model)"
   ]
  },
  {
   "cell_type": "markdown",
   "metadata": {},
   "source": [
    "## Sampling\n",
    "\n",
    "In order to generate Jazz solos, we will sample musical values from our model according to their softmax distribution; taking the value with the **highest** probability. We want to do this greedy sampling because it ensures that the generated music \"makes sense\". This is different from other sampling techniques, e.g. in the case of text generation, where we sample according to the distribution to allow some randomness."
   ]
  },
  {
   "cell_type": "code",
   "execution_count": 9,
   "metadata": {},
   "outputs": [],
   "source": [
    "def sample_notes(num_notes=100):\n",
    "    # Initialize the input as a sample with value zero of size (batch_size=1, seq_len=1, n_values)\n",
    "    input = torch.zeros([1, 1, n_values]).float()\n",
    "    # The hidden activations and cell state are initialized to all zeroes by default when `None` is passed\n",
    "    state = None\n",
    "\n",
    "    indices = []\n",
    "\n",
    "    # Make sure to not record any computation in the graph since the model is being used for inference here!\n",
    "    with torch.no_grad():\n",
    "        for _ in range(num_notes):\n",
    "            output, state = model(input.to(device), state)\n",
    "            output = output.detach().cpu()\n",
    "\n",
    "            # Compute the distribution using the softmax function\n",
    "            probs = F.softmax(output, dim=1)\n",
    "            # We squeeze the output to effectively convert it into a vector\n",
    "            probs = probs.numpy().squeeze()\n",
    "\n",
    "            # Sample the musical index greedily\n",
    "            idx = np.argmax(probs, axis=-1)\n",
    "\n",
    "            indices.append(idx)\n",
    "\n",
    "            # The sampled index becomes the input to the next timestep as a one-hot encoded vector\n",
    "            # Make sure to add the batch_size=1 and seq_len=1 dimensions\n",
    "            input = F.one_hot(torch.tensor(idx), num_classes=n_values).float().unsqueeze(0).unsqueeze(1)\n",
    "\n",
    "    return np.array(indices)"
   ]
  },
  {
   "cell_type": "markdown",
   "metadata": {},
   "source": [
    "## Optimization\n",
    "\n",
    "We'll use Adam for training the model with the cross-entropy loss. As in the Deep Learning Specialization assignment, we will also add an exponential decay scheduler to reduce the learning rate by 0.01."
   ]
  },
  {
   "cell_type": "code",
   "execution_count": 10,
   "metadata": {},
   "outputs": [],
   "source": [
    "loss_fn =  nn.CrossEntropyLoss()\n",
    "optimizer = optim.Adam(model.parameters(), lr=0.01)\n",
    "scheduler = optim.lr_scheduler.ExponentialLR(optimizer, gamma=0.01)"
   ]
  },
  {
   "cell_type": "markdown",
   "metadata": {},
   "source": [
    "## Training\n",
    "\n",
    "Time to train the model!"
   ]
  },
  {
   "cell_type": "code",
   "execution_count": 11,
   "metadata": {},
   "outputs": [],
   "source": [
    "# Training configuration\n",
    "epochs = 100"
   ]
  },
  {
   "cell_type": "code",
   "execution_count": 12,
   "metadata": {},
   "outputs": [
    {
     "name": "stdout",
     "output_type": "stream",
     "text": [
      "[0/100]\tLoss: 4.331540107727051\n",
      "[10/100]\tLoss: 4.221959114074707\n",
      "[20/100]\tLoss: 4.221946716308594\n",
      "[30/100]\tLoss: 4.221927642822266\n",
      "[40/100]\tLoss: 4.22196102142334\n",
      "[50/100]\tLoss: 4.22197151184082\n",
      "[60/100]\tLoss: 4.221979141235352\n",
      "[70/100]\tLoss: 4.222063064575195\n",
      "[80/100]\tLoss: 4.221956729888916\n",
      "[90/100]\tLoss: 4.221993446350098\n"
     ]
    },
    {
     "data": {
      "image/png": "[encoded data removed]",
      "text/plain": [
       "<Figure size 432x288 with 1 Axes>"
      ]
     },
     "metadata": {
      "image/png": {
       "height": 277,
       "width": 391
      },
      "needs_background": "light"
     },
     "output_type": "display_data"
    }
   ],
   "source": [
    "# Main training loop\n",
    "model = model.to(device)\n",
    "total_losses = []\n",
    "# The hidden and cell states are initialized to zeroes when `None` is passed\n",
    "state = None\n",
    "\n",
    "for epoch in range(epochs):\n",
    "    losses = []\n",
    "\n",
    "    for samples, targets in training:\n",
    "        optimizer.zero_grad()\n",
    "\n",
    "        samples = samples.to(device)\n",
    "        targets = targets.to(device)\n",
    "        # Flatten the targets to match batch_size * seq_len so the loss can be computed\n",
    "        targets = targets.flatten()\n",
    "\n",
    "        output, state = model(samples, state)\n",
    "        loss = loss_fn(output, targets)\n",
    "\n",
    "        loss.backward()\n",
    "        optimizer.step()\n",
    "        \n",
    "        # Detach the loss to avoid saving any more computations on it\n",
    "        losses.append(loss.detach().cpu().numpy())\n",
    "\n",
    "        # Detach the hidden and cell states to avoid saving more computations on them since we'll only use it for initializing the next sequence\n",
    "        # If we don't detach PyTorch tries to backprop through all the history of states which isn't allowed since the resources are freed\n",
    "        # We use `detach_()` so the operation is in-place\n",
    "        state[0].detach_()\n",
    "        state[1].detach_()\n",
    "\n",
    "    # Decay learning rate every epoch\n",
    "    scheduler.step()\n",
    "    \n",
    "    if epoch % 10 == 0:\n",
    "        total_losses.append(np.mean(losses))\n",
    "        print(f'[{epoch}/{epochs}]\\tLoss: {total_losses[-1]}')\n",
    "\n",
    "# Save the model\n",
    "torch.save(model.state_dict(), 'model/model.pt')\n",
    "\n",
    "# Plot the losses\n",
    "plt.plot(np.squeeze(total_losses))\n",
    "plt.ylabel('Avg. Loss')\n",
    "plt.xlabel('Epochs (per tens)')\n",
    "plt.title('Avg. Loss per Epoch')\n",
    "plt.show()"
   ]
  },
  {
   "cell_type": "markdown",
   "metadata": {},
   "source": [
    "## Testing\n",
    "\n",
    "Now that we have trained our model, we can use it to sample new jazz music."
   ]
  },
  {
   "cell_type": "code",
   "execution_count": 13,
   "metadata": {},
   "outputs": [
    {
     "name": "stdout",
     "output_type": "stream",
     "text": [
      "Predicting new values for different set of chords.\n",
      "Generated 101 sounds using the predicted values for the set of chords (\"1\") and after pruning\n",
      "Generated 101 sounds using the predicted values for the set of chords (\"2\") and after pruning\n",
      "Generated 101 sounds using the predicted values for the set of chords (\"3\") and after pruning\n",
      "Generated 101 sounds using the predicted values for the set of chords (\"4\") and after pruning\n",
      "Generated 100 sounds using the predicted values for the set of chords (\"5\") and after pruning\n",
      "Generated music is saved in output/jazz.midi\n"
     ]
    }
   ],
   "source": [
    "# Load the trained model\n",
    "model = Model()\n",
    "model.load_state_dict(torch.load('model/model.pt'))\n",
    "# Always set the mode to `eval` for inference\n",
    "model.eval()\n",
    "model = model.to(device)\n",
    "\n",
    "generate_music(sample_notes)"
   ]
  }
 ],
 "metadata": {
  "kernelspec": {
   "display_name": "Python 3",
   "language": "python",
   "name": "python3"
  },
  "language_info": {
   "codemirror_mode": {
    "name": "ipython",
    "version": 3
   },
   "file_extension": ".py",
   "mimetype": "text/x-python",
   "name": "python",
   "nbconvert_exporter": "python",
   "pygments_lexer": "ipython3",
   "version": "3.8.5"
  }
 },
 "nbformat": 4,
 "nbformat_minor": 4
}
