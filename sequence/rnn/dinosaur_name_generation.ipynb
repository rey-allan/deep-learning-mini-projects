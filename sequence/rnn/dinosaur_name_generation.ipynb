{
 "cells": [
  {
   "cell_type": "markdown",
   "metadata": {},
   "source": [
    "# Dinosaur Name Generation\n",
    "\n",
    "Generating dinosaur names using a character-level language model with RNNs.\n",
    "\n",
    "_PyTorch implementation of the assignment of Course 5 of Coursera's Deep Learning Specialization_."
   ]
  },
  {
   "cell_type": "markdown",
   "metadata": {},
   "source": [
    "## Imports"
   ]
  },
  {
   "cell_type": "code",
   "execution_count": 1,
   "metadata": {},
   "outputs": [],
   "source": [
    "%matplotlib inline\n",
    "\n",
    "import matplotlib.pyplot as plt\n",
    "import numpy as np\n",
    "import random\n",
    "import torch\n",
    "import torch.nn as nn\n",
    "import torch.nn.functional as F\n",
    "import torch.nn.utils.rnn as rnn_utils\n",
    "import torch.optim as optim\n",
    "\n",
    "from torch.utils.data import DataLoader, Dataset"
   ]
  },
  {
   "cell_type": "markdown",
   "metadata": {},
   "source": [
    "## Reproducibility"
   ]
  },
  {
   "cell_type": "code",
   "execution_count": 2,
   "metadata": {},
   "outputs": [],
   "source": [
    "seed = 24\n",
    "random.seed(seed)\n",
    "torch.manual_seed(seed);"
   ]
  },
  {
   "cell_type": "markdown",
   "metadata": {},
   "source": [
    "## Device Configuration"
   ]
  },
  {
   "cell_type": "code",
   "execution_count": 3,
   "metadata": {},
   "outputs": [],
   "source": [
    "device = torch.device('cuda:0' if torch.cuda.is_available() else 'cpu')"
   ]
  },
  {
   "cell_type": "markdown",
   "metadata": {},
   "source": [
    "## Dataset\n",
    "\n",
    "We will create a custom dataset that will provide the following:\n",
    "\n",
    "- Each sample is each **character** of a dinosaur name\n",
    "- Each corresponding target is a **character** of the same name, shifted one to the right\n",
    "  - We shift the characters because we want to predict the next most likely character given some previous character\n",
    "- 1536 training examples\n",
    "- 19909 total characters\n",
    "- 28 unique characters in our vocabulary (a-z, the terminal `\\n` character and a special `<PAD>` character)\n",
    "\n",
    "We will also define two mappings to track character-to-index and index-to-character values of our vocabulary. This will help us build the training set (using indices) and sample new names (using characters)."
   ]
  },
  {
   "cell_type": "code",
   "execution_count": 4,
   "metadata": {},
   "outputs": [],
   "source": [
    "data = open('data/dinos.txt', 'r').read()\n",
    "data = data.lower()\n",
    "chars = sorted(list(set(data)))\n",
    "# Add the <PAD> character\n",
    "chars.append('<PAD>')\n",
    "\n",
    "char_to_ix = {ch: i for i, ch in enumerate(chars)}\n",
    "ix_to_char = {i: ch for i, ch in enumerate(chars)}"
   ]
  },
  {
   "cell_type": "code",
   "execution_count": 5,
   "metadata": {},
   "outputs": [],
   "source": [
    "class DinosaurNamesDataset(Dataset):\n",
    "    def __init__(self):\n",
    "        with open('data/dinos.txt', 'r') as f:\n",
    "            self.dataset = [x.lower().strip() for x in f.readlines()]\n",
    "\n",
    "    def __len__(self):\n",
    "        return len(self.dataset)\n",
    "\n",
    "    def __getitem__(self, idx):\n",
    "        if torch.is_tensor(idx):\n",
    "            idx = idx.tolist()\n",
    "\n",
    "        # Generate the training examples with the indices for each character\n",
    "        X = [char_to_ix[ch] for ch in self.dataset[idx]]\n",
    "        # Generate the target by shifting the values (i.e. start from index 1 instead of 0) and adding the terminal\n",
    "        y = X[1:] + [char_to_ix['\\n']]\n",
    "\n",
    "        return torch.tensor(X), torch.tensor(y)\n",
    "\n",
    "\n",
    "def pad(batch):\n",
    "    # Pads the sequences in a batch so they can all have the same length and thus be used in a `DataLoader`\n",
    "    # Based on https://stackoverflow.com/a/57207895\n",
    "    # Ref 1: https://towardsdatascience.com/taming-lstms-variable-sized-mini-batches-and-why-pytorch-is-good-for-your-health-61d35642972e\n",
    "    # Ref 2: https://pytorch.org/tutorials/beginner/chatbot_tutorial.html#prepare-data-for-models\n",
    "    X = [x for (x, _) in batch]\n",
    "    y = [y for (_, y) in batch]\n",
    "    \n",
    "    # Compute the lengths of the samples' sequences before padding, needed for packing them all later\n",
    "    X_lengths = [x.shape[0] for (x, _) in batch]\n",
    "\n",
    "    # Pad sequences to make them the same length\n",
    "    pad_value = char_to_ix['<PAD>']\n",
    "    X = rnn_utils.pad_sequence(X, batch_first=True, padding_value=pad_value)\n",
    "    y = rnn_utils.pad_sequence(y, batch_first=True, padding_value=pad_value)\n",
    "    \n",
    "    # Compute the masks for the targets, needed for masking out the loss computation later\n",
    "    mask = y != pad_value\n",
    "\n",
    "    return X, y, X_lengths, mask"
   ]
  },
  {
   "cell_type": "markdown",
   "metadata": {},
   "source": [
    "We can now create our training set."
   ]
  },
  {
   "cell_type": "code",
   "execution_count": 6,
   "metadata": {},
   "outputs": [],
   "source": [
    "# The `collate_fn` applies a transformation to the batch\n",
    "training = DataLoader(DinosaurNamesDataset(), batch_size=64, shuffle=True, num_workers=4, collate_fn=pad)"
   ]
  },
  {
   "cell_type": "markdown",
   "metadata": {},
   "source": [
    "## Model\n",
    "\n",
    "We'll use a vanilla Recurrent Neural Network with a **single** recurrent layer with **50 units**, and a **softmax** output function at _each_ RNN cell. This means our model expects $T_x = T_y$, i.e. the length of the input sequence should match the length of the target sequence. The reason is that we are generating a character-level model using the _same_ name as both input and target (shifted).\n",
    "\n",
    "For the input, the model will one-hot encode the character indices based on the size of our vocabulary (28 characters).\n",
    "\n",
    "![](img/rnn.png)"
   ]
  },
  {
   "cell_type": "code",
   "execution_count": 7,
   "metadata": {},
   "outputs": [],
   "source": [
    "class Model(nn.Module):\n",
    "    def __init__(self):\n",
    "        super(Model, self).__init__()\n",
    "\n",
    "        self.rnn = nn.RNN(input_size=28, hidden_size=50, batch_first=True)\n",
    "        # Output layer to convert to target space (28 character classes)\n",
    "        self.out = nn.Linear(in_features=50, out_features=28)\n",
    "\n",
    "    def forward(self, X, X_lengths):\n",
    "        # One-hot the input\n",
    "        output = F.one_hot(X, num_classes=28).float()\n",
    "\n",
    "        # `pack_padded_sequence` so that padded items in the sequence won't be shown to the RNN\n",
    "        # See: https://towardsdatascience.com/taming-lstms-variable-sized-mini-batches-and-why-pytorch-is-good-for-your-health-61d35642972e\n",
    "        output = rnn_utils.pack_padded_sequence(output, X_lengths, batch_first=True, enforce_sorted=False)\n",
    "\n",
    "        # Pass through RNN\n",
    "        output, _ = self.rnn(output)\n",
    "\n",
    "        # Undo the packing operation\n",
    "        # See: https://towardsdatascience.com/taming-lstms-variable-sized-mini-batches-and-why-pytorch-is-good-for-your-health-61d35642972e\n",
    "        output, _ = rnn_utils.pad_packed_sequence(output, batch_first=True)\n",
    "\n",
    "        # Convert to target space\n",
    "        output = self.out(output)\n",
    "\n",
    "        # Apply softmax on the vocab dimension explicitly (as opposed to using PyTorch's combined loss function) since we will be defining\n",
    "        # our own custom loss function\n",
    "        output = F.softmax(output, dim=2)\n",
    "\n",
    "        return output"
   ]
  },
  {
   "cell_type": "code",
   "execution_count": 8,
   "metadata": {},
   "outputs": [
    {
     "name": "stdout",
     "output_type": "stream",
     "text": [
      "Model(\n",
      "  (rnn): RNN(28, 50, batch_first=True)\n",
      "  (out): Linear(in_features=50, out_features=28, bias=True)\n",
      ")\n"
     ]
    }
   ],
   "source": [
    "model = Model()\n",
    "print(model)"
   ]
  },
  {
   "cell_type": "markdown",
   "metadata": {},
   "source": [
    "## Optimization\n",
    "\n",
    "We'll use Adam for training the model with a custom cross-entropy loss. A custom loss function is needed because we don't want to consider the elements that correspond to the special character `<PAD>` in the computation.\n",
    "\n",
    "_Note: see https://pytorch.org/tutorials/beginner/chatbot_tutorial.html#masked-loss_"
   ]
  },
  {
   "cell_type": "code",
   "execution_count": 9,
   "metadata": {},
   "outputs": [],
   "source": [
    "def masked_cross_entropy_loss(output, targets, mask):\n",
    "    # `torch.gather()` grabs the output activations that correspond to the \"indexes\" given by the targets\n",
    "    # e.g. if the target is the character with index 5, then it grabs the activation at index 5\n",
    "    # Once we have the activations that correspond to the targets, we can compute the negative log likelihood, i.e. the cross-entropy\n",
    "    # This is equivalent to having the targets be vectors of 0's with a 1 in the corresponding index which would zero out all other computations\n",
    "    cross_entropy = -torch.log(torch.gather(output.view(-1, 28), 1, targets.view(-1, 1)).squeeze(1))\n",
    "    # Now mask out the padded values and reduce the losses using the average to generate the final loss for the batch\n",
    "    loss = cross_entropy.masked_select(mask.view(-1, 1)).mean()\n",
    "\n",
    "    return loss"
   ]
  },
  {
   "cell_type": "code",
   "execution_count": 10,
   "metadata": {},
   "outputs": [],
   "source": [
    "loss_fn = masked_cross_entropy_loss\n",
    "optimizer = optim.Adam(model.parameters())"
   ]
  },
  {
   "cell_type": "markdown",
   "metadata": {},
   "source": [
    "## Training\n",
    "\n",
    "Time to train the model!"
   ]
  },
  {
   "cell_type": "code",
   "execution_count": 11,
   "metadata": {},
   "outputs": [],
   "source": [
    "# Training configuration\n",
    "epochs = 35000"
   ]
  },
  {
   "cell_type": "code",
   "execution_count": 12,
   "metadata": {},
   "outputs": [
    {
     "name": "stdout",
     "output_type": "stream",
     "text": [
      "[0/35000]\tLoss: 3.1735522747039795\n",
      "[1000/35000]\tLoss: 0.7182769775390625\n",
      "[2000/35000]\tLoss: 0.6934554576873779\n",
      "[3000/35000]\tLoss: 0.683504581451416\n",
      "[4000/35000]\tLoss: 0.6608338952064514\n",
      "[5000/35000]\tLoss: 0.7030109763145447\n",
      "[6000/35000]\tLoss: 0.6749889254570007\n",
      "[7000/35000]\tLoss: 0.6569188237190247\n",
      "[8000/35000]\tLoss: 0.6603567600250244\n",
      "[9000/35000]\tLoss: 0.679055392742157\n",
      "[10000/35000]\tLoss: 0.655177652835846\n",
      "[11000/35000]\tLoss: 0.6694705486297607\n",
      "[12000/35000]\tLoss: 0.7158105969429016\n",
      "[13000/35000]\tLoss: 0.680025041103363\n",
      "[14000/35000]\tLoss: 0.6461178660392761\n",
      "[15000/35000]\tLoss: 0.6865223050117493\n",
      "[16000/35000]\tLoss: 0.6566489338874817\n",
      "[17000/35000]\tLoss: 0.6718356609344482\n",
      "[18000/35000]\tLoss: 0.6508365869522095\n",
      "[19000/35000]\tLoss: 0.6647751331329346\n",
      "[20000/35000]\tLoss: 0.6493016481399536\n",
      "[21000/35000]\tLoss: 0.6633304357528687\n",
      "[22000/35000]\tLoss: 0.6532465815544128\n",
      "[23000/35000]\tLoss: 0.6576023101806641\n",
      "[24000/35000]\tLoss: 0.6657090783119202\n",
      "[25000/35000]\tLoss: 0.6511833667755127\n",
      "[26000/35000]\tLoss: 0.6599805951118469\n",
      "[27000/35000]\tLoss: 0.6529178023338318\n",
      "[28000/35000]\tLoss: 0.6455410718917847\n",
      "[29000/35000]\tLoss: 0.6556876301765442\n",
      "[30000/35000]\tLoss: 0.6552203297615051\n",
      "[31000/35000]\tLoss: 0.6572830677032471\n",
      "[32000/35000]\tLoss: 0.6773163676261902\n",
      "[33000/35000]\tLoss: 0.6764679551124573\n",
      "[34000/35000]\tLoss: 0.6476970314979553\n"
     ]
    },
    {
     "data": {
      "image/png": "[encoded data removed]",
      "text/plain": [
       "<Figure size 432x288 with 1 Axes>"
      ]
     },
     "metadata": {
      "needs_background": "light"
     },
     "output_type": "display_data"
    }
   ],
   "source": [
    "# Main training loop\n",
    "model = model.to(device)\n",
    "total_losses = []\n",
    "\n",
    "for epoch in range(epochs):\n",
    "    losses = []\n",
    "\n",
    "    for X, y, X_lengths, mask in training:\n",
    "        optimizer.zero_grad()\n",
    "\n",
    "        X = X.to(device)\n",
    "        y = y.to(device)\n",
    "        mask = mask.to(device)\n",
    "\n",
    "        output = model(X, X_lengths)\n",
    "\n",
    "        loss = loss_fn(output, y, mask)\n",
    "\n",
    "        loss.backward()\n",
    "        \n",
    "        # Clip gradients using a max value of 5 as in the Deep Learning Specialization assignment\n",
    "        nn.utils.clip_grad_value_(model.parameters(), 5)\n",
    "\n",
    "        optimizer.step()\n",
    "        \n",
    "        # Detach the loss to avoid saving any more computations on it\n",
    "        losses.append(loss.detach().cpu().numpy())\n",
    "\n",
    "    if epoch % 1000 == 0:\n",
    "        total_losses.append(np.mean(losses))\n",
    "        print(f'[{epoch}/{epochs}]\\tLoss: {total_losses[-1]}')\n",
    "\n",
    "# Save the model\n",
    "torch.save(model.state_dict(), 'model/model.pt')\n",
    "\n",
    "# Plot the losses\n",
    "plt.plot(np.squeeze(total_losses))\n",
    "plt.ylabel('Avg. Loss')\n",
    "plt.xlabel('Epochs (per thousands)')\n",
    "plt.title('Avg. Loss per Epoch')\n",
    "plt.show()"
   ]
  },
  {
   "cell_type": "markdown",
   "metadata": {},
   "source": [
    "## Testing\n",
    "\n",
    "Now that we have trained our model, we can use it to sample new dinosaur names!"
   ]
  },
  {
   "cell_type": "code",
   "execution_count": 13,
   "metadata": {},
   "outputs": [
    {
     "name": "stdout",
     "output_type": "stream",
     "text": [
      "Uchalillorucanorizeoraurelurutalisisthyulinabarlua\n",
      "Isuriseinaledanyaraneriamalungicheosaelatinaneuaus\n",
      "Amorusineomanisuchosinadrrunepravesteralalalinyali\n",
      "Utralicralisusheprisiscrhinovistadesceorulumanycov\n",
      "Olilantadrinquekeutanisileneonotanycaganeolaneuneo\n",
      "Ueucilepelalehamaneushorisyilaliledestyuhicojustra\n",
      "Unusiralalorunorigorugerisholinalutyailerucacharai\n",
      "Ereosinojigorilulilasanilautrhadinodeusiseuevauapo\n",
      "Oveunigwutorheraus\n",
      "\n",
      "Odeoriyumohyaceuririneyisushoshazeomanoligistautat\n"
     ]
    }
   ],
   "source": [
    "# Load the trained model\n",
    "model = Model()\n",
    "model.load_state_dict(torch.load('model/model.pt'))\n",
    "# Always set the mode to `eval` for inference\n",
    "model.eval()\n",
    "model = model.to(device)\n",
    "\n",
    "# Names to generate\n",
    "num_names = 10\n",
    "# Max number of characters in a name\n",
    "# As mentioned in the Deep Learning Specialization assignment, this should be unlikely with a well-trained model but it's a safety measure\n",
    "max_chars = 50\n",
    "# The generated dinosaur names\n",
    "names = []\n",
    "\n",
    "# Main sampling loop\n",
    "for _ in range(num_names):\n",
    "    # Initialize the input as a sampel with value zero of size (batch_size=1, seq_len=1, 28)\n",
    "    input = torch.tensor(0).unsqueeze(0).unsqueeze(1)\n",
    "    name = \"\"\n",
    "    char = ''\n",
    "    chars = 0\n",
    "\n",
    "    while char != '\\n' and chars < max_chars:\n",
    "        output = model(input.to(device), [1])\n",
    "        output = output.detach().cpu().flatten()\n",
    "\n",
    "        # We use PyTorch's multinomial vs NumPy's random choice because it handles probabilities that are very close to 1 (e.g. 1.000001) much better\n",
    "        # See: https://discuss.pytorch.org/t/torch-equivalent-of-numpy-random-choice/16146/14\n",
    "        idx = np.squeeze(output.multinomial(num_samples=1, replacement=True).numpy())\n",
    "\n",
    "        # Save the actual character and continue building the name\n",
    "        char = ix_to_char[int(idx)]\n",
    "        name += char\n",
    "\n",
    "        # The sampled character becomes the input to the next timestep\n",
    "        # Make sure to add the batch_size=1 and seq_len=1 dimensions\n",
    "        input = torch.tensor(idx).unsqueeze(0).unsqueeze(1)\n",
    "\n",
    "        chars += 1\n",
    "\n",
    "    names.append(name)\n",
    "\n",
    "# Display all dinosaur names capitalized\n",
    "for name in names:\n",
    "    print(f'{name[0].upper() + name[1:]}')"
   ]
  },
  {
   "cell_type": "code",
   "execution_count": null,
   "metadata": {},
   "outputs": [],
   "source": []
  }
 ],
 "metadata": {
  "kernelspec": {
   "display_name": "Python 3",
   "language": "python",
   "name": "python3"
  },
  "language_info": {
   "codemirror_mode": {
    "name": "ipython",
    "version": 3
   },
   "file_extension": ".py",
   "mimetype": "text/x-python",
   "name": "python",
   "nbconvert_exporter": "python",
   "pygments_lexer": "ipython3",
   "version": "3.8.5"
  }
 },
 "nbformat": 4,
 "nbformat_minor": 4
}
