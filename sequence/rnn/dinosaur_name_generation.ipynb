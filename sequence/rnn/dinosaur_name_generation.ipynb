{
 "cells": [
  {
   "cell_type": "markdown",
   "metadata": {},
   "source": [
    "# Dinosaur Name Generation\n",
    "\n",
    "Generating dinosaur names using a character-level language model with RNNs.\n",
    "\n",
    "_PyTorch implementation of the assignment of Course 5 of Coursera's Deep Learning Specialization_."
   ]
  },
  {
   "cell_type": "markdown",
   "metadata": {},
   "source": [
    "## Imports"
   ]
  },
  {
   "cell_type": "code",
   "execution_count": 1,
   "metadata": {},
   "outputs": [],
   "source": [
    "%matplotlib inline\n",
    "\n",
    "import matplotlib.pyplot as plt\n",
    "import numpy as np\n",
    "import random\n",
    "import torch\n",
    "import torch.nn as nn\n",
    "import torch.nn.functional as F\n",
    "import torch.optim as optim"
   ]
  },
  {
   "cell_type": "markdown",
   "metadata": {},
   "source": [
    "## Reproducibility"
   ]
  },
  {
   "cell_type": "code",
   "execution_count": 2,
   "metadata": {},
   "outputs": [],
   "source": [
    "seed = 24\n",
    "np.random.seed(seed)\n",
    "random.seed(seed)\n",
    "torch.manual_seed(seed);"
   ]
  },
  {
   "cell_type": "markdown",
   "metadata": {},
   "source": [
    "## Device Configuration"
   ]
  },
  {
   "cell_type": "code",
   "execution_count": 3,
   "metadata": {},
   "outputs": [],
   "source": [
    "device = torch.device('cuda:0' if torch.cuda.is_available() else 'cpu')"
   ]
  },
  {
   "cell_type": "markdown",
   "metadata": {},
   "source": [
    "## Dataset\n",
    "\n",
    "We will create a custom dataset that will provide the following:\n",
    "\n",
    "- Each sample is each **character** of a dinosaur name\n",
    "- Each corresponding target is a **character** of the same name, shifted one to the right\n",
    "  - We shift the characters because we want to predict the next most likely character given some previous character\n",
    "- 1536 training examples\n",
    "- 19909 total characters\n",
    "- 27 unique characters in our vocabulary (a-z and the terminal `\\n` character)\n",
    "\n",
    "We will also define two mappings to track character-to-index and index-to-character values of our vocabulary. This will help us build the training set (using indices) and sample new names (using characters).\n",
    "\n",
    "_Note: We won't be using a `DataLoader` because it requires all samples to be the same size. In this case, the dinosaur names are of variable length. There are ways of padding and packing the samples so that they are all of the same size (see: https://towardsdatascience.com/taming-lstms-variable-sized-mini-batches-and-why-pytorch-is-good-for-your-health-61d35642972e). However, the size of this dataset is small enough to train efficiently without batches._"
   ]
  },
  {
   "cell_type": "code",
   "execution_count": 4,
   "metadata": {},
   "outputs": [],
   "source": [
    "vocab_size = 27\n",
    "\n",
    "data = open('data/dinos.txt', 'r').read()\n",
    "data = data.lower()\n",
    "chars = sorted(list(set(data)))\n",
    "\n",
    "char_to_ix = {ch: i for i, ch in enumerate(chars)}\n",
    "ix_to_char = {i: ch for i, ch in enumerate(chars)}"
   ]
  },
  {
   "cell_type": "code",
   "execution_count": 5,
   "metadata": {},
   "outputs": [],
   "source": [
    "with open('data/dinos.txt', 'r') as f:\n",
    "    names = [n.lower().strip() for n in f.readlines()]\n",
    "\n",
    "# Generate the training examples with the indices for each character of each name\n",
    "samples = [[char_to_ix[ch] for ch in name] for name in names]\n",
    "# Generate the targets by shifting the values (i.e. start from index 1 instread of 0) and adding the terminal character\n",
    "targets = [sample[1:] + [char_to_ix['\\n']] for sample in samples]\n",
    "# Zip them into a single list of sample-target pairs\n",
    "training = list(zip(samples, targets))"
   ]
  },
  {
   "cell_type": "markdown",
   "metadata": {},
   "source": [
    "## Model\n",
    "\n",
    "We'll use a vanilla Recurrent Neural Network with a **single** recurrent layer with **50 units**, and a **softmax** output function at _each_ RNN cell. This means our model expects $T_x = T_y$, i.e. the length of the input sequence should match the length of the target sequence. The reason is that we are generating a character-level model using the _same_ name as both input and target (shifted).\n",
    "\n",
    "For the input, the model will one-hot encode the character indices based on the size of our vocabulary (28 characters).\n",
    "\n",
    "![](img/rnn.png)"
   ]
  },
  {
   "cell_type": "code",
   "execution_count": 6,
   "metadata": {},
   "outputs": [],
   "source": [
    "class Model(nn.Module):\n",
    "    def __init__(self):\n",
    "        super(Model, self).__init__()\n",
    "\n",
    "        # RNN layer expects one-hot encoded sequences of size `vocab_size`\n",
    "        self.rnn = nn.RNN(input_size=vocab_size, hidden_size=50, batch_first=True)\n",
    "        # Output layer to convert to target space (`vocab_size` character classes)\n",
    "        self.out = nn.Linear(in_features=50, out_features=vocab_size)\n",
    "        # We don't define a softmax output layer explicitly because it's combined with the loss function\n",
    "\n",
    "    def forward(self, input, hidden):\n",
    "        # One-hot the input\n",
    "        output = F.one_hot(input, num_classes=vocab_size).float()\n",
    "        # Pass through RNN along with the previous hidden activations\n",
    "        # Passing in the previous hidden activations is needed for the model to continue learning\n",
    "        # if they aren't passed, the activations are reset to zero which effectively erases any learnings from the model!\n",
    "        output, hidden = self.rnn(output, hidden)\n",
    "        # Stack outputs from RNN (i.e. batch_size * seq_len, hidden_size) and convert to target space\n",
    "        # In this case batch_size=1\n",
    "        output = self.out(output.contiguous().view(-1, 50))\n",
    "\n",
    "        return output, hidden"
   ]
  },
  {
   "cell_type": "code",
   "execution_count": 7,
   "metadata": {},
   "outputs": [
    {
     "name": "stdout",
     "output_type": "stream",
     "text": [
      "Model(\n",
      "  (rnn): RNN(27, 50, batch_first=True)\n",
      "  (out): Linear(in_features=50, out_features=27, bias=True)\n",
      ")\n"
     ]
    }
   ],
   "source": [
    "model = Model()\n",
    "print(model)"
   ]
  },
  {
   "cell_type": "markdown",
   "metadata": {},
   "source": [
    "## Sampling\n",
    "\n",
    "In order to generate dinosaur names, we will sample characters from our model according to their softmax distribution."
   ]
  },
  {
   "cell_type": "code",
   "execution_count": 8,
   "metadata": {},
   "outputs": [],
   "source": [
    "# Max number of characters in a name\n",
    "# As mentioned in the Deep Learning Specialization assignment, this should be unlikely with a well-trained model but it's a safety measure\n",
    "max_chars = 50\n",
    "\n",
    "def sample_name(model):\n",
    "    # Initialize the input as a sample with value zero of size (batch_size=1, seq_len=1)\n",
    "    input = torch.zeros([1, 1], dtype=torch.int64)\n",
    "    # The hidden activations are initialize to all zeroes by default when `None` is passed\n",
    "    hidden = None\n",
    "\n",
    "    name = \"\"\n",
    "    char = ''\n",
    "    chars = 0\n",
    "\n",
    "    # Make sure to not record any computation in the graph since the model is being used for inference here!\n",
    "    with torch.no_grad():\n",
    "        while char != '\\n' and chars < max_chars:\n",
    "            output, hidden = model(input.to(device), hidden)\n",
    "            output = output.detach().cpu()\n",
    "\n",
    "            # Compute the distribution using the softmax function\n",
    "            probs = F.softmax(output, dim=1)\n",
    "            # We squeeze the output to effectively convert it into a vector\n",
    "            probs = probs.numpy().squeeze()\n",
    "            \n",
    "            # Sample the character based on its distribution\n",
    "            # We normalize the probabilities by their sum to make sure they always sum to 1; this is needed because NumPy is very strict\n",
    "            idx = np.random.choice(list(range(vocab_size)), p=probs / probs.sum())\n",
    "\n",
    "            # Save the actual character and continue building the name\n",
    "            char = ix_to_char[int(idx)]\n",
    "            name += char\n",
    "\n",
    "            # The sampled character becomes the input to the next timestep\n",
    "            # Make sure to add the batch_size=1 and seq_len=1 dimensions\n",
    "            input = torch.tensor(idx).unsqueeze(0).unsqueeze(1)\n",
    "\n",
    "            chars += 1\n",
    "\n",
    "    return name"
   ]
  },
  {
   "cell_type": "markdown",
   "metadata": {},
   "source": [
    "## Optimization\n",
    "\n",
    "We'll use Adam for training the model with the cross-entropy loss. As in the Deep Learning Specialization assignment, we will also smooth the loss to accelerate training."
   ]
  },
  {
   "cell_type": "code",
   "execution_count": 9,
   "metadata": {},
   "outputs": [],
   "source": [
    "loss_fn =  nn.CrossEntropyLoss()\n",
    "optimizer = optim.Adam(model.parameters(), lr=0.01)"
   ]
  },
  {
   "cell_type": "code",
   "execution_count": 10,
   "metadata": {},
   "outputs": [],
   "source": [
    "def smooth(prev_loss, loss):\n",
    "    # Taken from `utils.py` as part of the Deep Learning Specialization assignment\n",
    "    return prev_loss * 0.999 + loss * 0.001"
   ]
  },
  {
   "cell_type": "markdown",
   "metadata": {},
   "source": [
    "## Training\n",
    "\n",
    "Time to train the model!"
   ]
  },
  {
   "cell_type": "code",
   "execution_count": 11,
   "metadata": {},
   "outputs": [],
   "source": [
    "# Training configuration\n",
    "epochs = 35000\n",
    "dino_names = 7"
   ]
  },
  {
   "cell_type": "code",
   "execution_count": 12,
   "metadata": {},
   "outputs": [
    {
     "name": "stdout",
     "output_type": "stream",
     "text": [
      "[0/35000]\tLoss: 23.051048278808594\n",
      "Tikcuyz\n",
      "Mqfcdstrhf\n",
      "Lqrolicxvcviujnivndauiutsknmjjuqqvbksr\n",
      "Nyijubjlwqmwrp\n",
      "Muzrsqucupsnqnscuesmxpdgxncufnscaevrdae\n",
      "Ljhdugt\n",
      "Uwqvpwsefitqnlcyjizofdhb\n",
      "\n",
      "\n",
      "[2000/35000]\tLoss: 4.896327972412109\n",
      "Esaulosonnablochives\n",
      "Imoputpolnlntonmanoblptysaurus\n",
      "Ilnholvalus\n",
      "Llldoththtingphus\n",
      "Osbunposan\n",
      "Llenglis\n",
      "Saropthalmus\n",
      "\n",
      "\n",
      "[4000/35000]\tLoss: 2.39034104347229\n",
      "Longlkioatopalopawaun\n",
      "Aoris\n",
      "Oon\n",
      "Torngugiauditapavocltitarlgocopapr\n",
      "Oduwx\n",
      "Awapelpolix\n",
      "Anjos\n",
      "\n",
      "\n",
      "[6000/35000]\tLoss: 2.0113978385925293\n",
      "Velaeor\n",
      "Ipcrutrosannulbantisaurus\n",
      "Xintan\n",
      "Odosatodledous\n",
      "Aonysaurus\n",
      "Ocodun\n",
      "Elodosaurosaus\n",
      "\n",
      "\n",
      "[8000/35000]\tLoss: 1.9952290058135986\n",
      "Ostliausmodmosaenzisaurus\n",
      "Elkostus\n",
      "Odadiestamas\n",
      "Orgag\n",
      "Amhofophrargas\n",
      "Osakanescenasanhuseutoshus\n",
      "Utor\n",
      "\n",
      "\n",
      "[10000/35000]\tLoss: 2.0411453247070312\n",
      "A\n",
      "Eiauloa\n",
      "Eatxpurosyusjirateryopaurus\n",
      "Ylutabagochylesaurus\n",
      "Aunthhaavocervurosaurus\n",
      "Alovajeelos\n",
      "Imodopsymachusaurus\n",
      "\n",
      "\n",
      "[12000/35000]\tLoss: 2.0199317932128906\n",
      "Aus\n",
      "Ys\n",
      "Ators\n",
      "Uabrrkuukaqus\n",
      "Aule\n",
      "Aus\n",
      "Overocryus\n",
      "\n",
      "\n",
      "[14000/35000]\tLoss: 1.9731882810592651\n",
      "Uerureps\n",
      "Anomalarralosaurus\n",
      "Atbesaurus\n",
      "Emuamptaspenasaurus\n",
      "Aurus\n",
      "Es\n",
      "Pamtatasaurus\n",
      "\n",
      "\n",
      "[16000/35000]\tLoss: 1.9964944124221802\n",
      "Uasrtasaurus\n",
      "Is\n",
      "Ala\n",
      "Anuwoauroitotan\n",
      "Ubaca\n",
      "Us\n",
      "Ari\n",
      "\n",
      "\n",
      "[18000/35000]\tLoss: 1.992660641670227\n",
      "Podrnunolen\n",
      "Eunas\n",
      "Uh\n",
      "Imonmanihidangllede\n",
      "Ichisaurus\n",
      "Andosaurus\n",
      "Atitoldsaudunnudirmautrronglidoshueldruruusaurus\n",
      "\n",
      "\n",
      "[20000/35000]\tLoss: 1.9938956499099731\n",
      "Teestegosaurus\n",
      "Manganongonvankeonooventenasaunananna\n",
      "Alatosaurus\n",
      "Ukya\n",
      "Os\n",
      "Asaurus\n",
      "Occytadon\n",
      "\n",
      "\n",
      "[22000/35000]\tLoss: 2.019714832305908\n",
      "Opepalilusaurus\n",
      "Cerdysaurus\n",
      "Ielgutosaokrlos\n",
      "Isaurus\n",
      "Olalirolowryorangkesaurus\n",
      "Miluros\n",
      "Amephulys\n",
      "\n",
      "\n",
      "[24000/35000]\tLoss: 2.003389358520508\n",
      "Lotlotsanhi\n",
      "Eoa\n",
      "Ochomalpatops\n",
      "Opautomicops\n",
      "Elopagon\n",
      "Agus\n",
      "A\n",
      "\n",
      "\n",
      "[26000/35000]\tLoss: 1.9877848625183105\n",
      "Anglonhagnatoves\n",
      "Loranin\n",
      "Anutor\n",
      "Olia\n",
      "Tator\n",
      "Ang\n",
      "On\n",
      "\n",
      "\n",
      "[28000/35000]\tLoss: 1.9977226257324219\n",
      "Lonosanidor\n",
      "Olydon\n",
      "Lus\n",
      "Ohin\n",
      "Alielatosaurosaurospteseemus\n",
      "Bassanalelabs\n",
      "Besaurus\n",
      "\n",
      "\n",
      "[30000/35000]\tLoss: 2.0058932304382324\n",
      "Alrontkltawatakaurus\n",
      "Egl\n",
      "Rosptorseasoa\n",
      "An\n",
      "Sauruparoengawathuranogprui\n",
      "Ran\n",
      "Atialedomedyry\n",
      "\n",
      "\n",
      "[32000/35000]\tLoss: 2.009381055831909\n",
      "Arasaura\n",
      "Eptor\n",
      "Aurus\n",
      "Ong\n",
      "Or\n",
      "Antaurus\n",
      "Aurus\n",
      "\n",
      "\n",
      "[34000/35000]\tLoss: 1.9784616231918335\n",
      "Alatrallakuplokosaurus\n",
      "Aratops\n",
      "Antaattoanles\n",
      "Algtiana\n",
      "Sargatepaurus\n",
      "Alathiltatiorus\n",
      "S\n",
      "\n",
      "\n"
     ]
    },
    {
     "data": {
      "image/png": "[encoded data removed]",
      "text/plain": [
       "<Figure size 432x288 with 1 Axes>"
      ]
     },
     "metadata": {
      "needs_background": "light"
     },
     "output_type": "display_data"
    }
   ],
   "source": [
    "# Main training loop\n",
    "model = model.to(device)\n",
    "# Make sure to shuffle the examples\n",
    "np.random.shuffle(training)\n",
    "# Initialize loss as in the Deep Learning Specialization assignment\n",
    "prev_loss = -np.log(1. / vocab_size) * dino_names\n",
    "losses = []\n",
    "# The hidden state is initialized to zeroes when `None` is passed\n",
    "hidden = None\n",
    "\n",
    "for epoch in range(epochs):\n",
    "    optimizer.zero_grad()\n",
    "\n",
    "    # Grab an example\n",
    "    sample, target = training[epoch % len(training)]\n",
    "    # Add the batch_size=1 dimension\n",
    "    sample = torch.tensor(sample).unsqueeze(0).to(device)\n",
    "    target = torch.tensor(target).to(device)\n",
    "    \n",
    "    output, hidden = model(sample, hidden)\n",
    "\n",
    "    loss = loss_fn(output, target)\n",
    "    loss = smooth(prev_loss, loss)\n",
    "    \n",
    "    loss.backward()\n",
    "\n",
    "    # Clip gradients using a max value of 5 as in the Deep Learning Specialization assignment\n",
    "    nn.utils.clip_grad_norm_(model.parameters(), 5)\n",
    "\n",
    "    optimizer.step()\n",
    "    \n",
    "    # Detach the loss to avoid saving more computations on it since we'll only use it for smoothing the next loss\n",
    "    prev_loss = loss.detach().cpu().numpy()\n",
    "    # Detach the hidden activations to avoid saving more computations on it since we'll only use it for initializing the next RNN sequence\n",
    "    # If we don't detach PyTorch tries to backprop through all the history of hidden activations which isn't allowed since the resources are freed\n",
    "    hidden = hidden.detach()\n",
    "    \n",
    "    if epoch % 2000 == 0:\n",
    "        print(f'[{epoch}/{epochs}]\\tLoss: {loss}')\n",
    "        losses.append(loss)\n",
    "\n",
    "        # Generate some dinosaur names to see if the model is learning\n",
    "        for _ in range(dino_names):\n",
    "            name = sample_name(model)\n",
    "            print(f'{name[0].upper() + name[1:]}', end='')\n",
    "\n",
    "        print('\\n')\n",
    "\n",
    "# Save the model\n",
    "torch.save(model.state_dict(), 'model/model.pt')\n",
    "\n",
    "# Plot the losses\n",
    "plt.plot(np.squeeze(losses))\n",
    "plt.ylabel('Loss')\n",
    "plt.xlabel('Epochs (per two-thousands)')\n",
    "plt.title('Loss per Epoch')\n",
    "plt.show()"
   ]
  },
  {
   "cell_type": "markdown",
   "metadata": {},
   "source": [
    "## Testing\n",
    "\n",
    "Now that we have trained our model, we can use it to sample new dinosaur names."
   ]
  },
  {
   "cell_type": "code",
   "execution_count": 13,
   "metadata": {},
   "outputs": [
    {
     "name": "stdout",
     "output_type": "stream",
     "text": [
      "Asaurotreus\n",
      "Osia\n",
      "Olodosaus\n",
      "Oangesaurus\n",
      "Epia\n",
      "Eponator\n",
      "Epurontaurus\n",
      "Nochacrusus\n",
      "Osaurus\n",
      "Anosauptor\n"
     ]
    }
   ],
   "source": [
    "# Load the trained model\n",
    "model = Model()\n",
    "model.load_state_dict(torch.load('model/model.pt'))\n",
    "# Always set the mode to `eval` for inference\n",
    "model.eval()\n",
    "model = model.to(device)\n",
    "\n",
    "# Names to generate\n",
    "num_names = 10\n",
    "# The generated dinosaur names\n",
    "names = []\n",
    "\n",
    "for _ in range(num_names):\n",
    "    name = sample_name(model)\n",
    "    names.append(name)\n",
    "\n",
    "# Display all dinosaur names capitalized\n",
    "for name in names:\n",
    "    print(f'{name[0].upper() + name[1:]}', end='')"
   ]
  },
  {
   "cell_type": "markdown",
   "metadata": {},
   "source": [
    "The model was able to learn that dinosaur names tend to end in _saurus_, _don_, _aura_, _tor_, etc!"
   ]
  }
 ],
 "metadata": {
  "kernelspec": {
   "display_name": "Python 3",
   "language": "python",
   "name": "python3"
  },
  "language_info": {
   "codemirror_mode": {
    "name": "ipython",
    "version": 3
   },
   "file_extension": ".py",
   "mimetype": "text/x-python",
   "name": "python",
   "nbconvert_exporter": "python",
   "pygments_lexer": "ipython3",
   "version": "3.8.5"
  }
 },
 "nbformat": 4,
 "nbformat_minor": 4
}
