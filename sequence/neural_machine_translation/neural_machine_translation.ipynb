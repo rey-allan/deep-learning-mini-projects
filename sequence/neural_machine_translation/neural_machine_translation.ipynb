{
 "cells": [
  {
   "cell_type": "markdown",
   "metadata": {},
   "source": [
    "# Neural Machine Translation\n",
    "\n",
    "Translating human-readable dates to standard machine-readable dates using attention mechanisms.\n",
    "\n",
    "_PyTorch implementation of the assignment of Course 5 of Coursera's Deep Learning Specialization_."
   ]
  },
  {
   "cell_type": "markdown",
   "metadata": {},
   "source": [
    "## Imports"
   ]
  },
  {
   "cell_type": "code",
   "execution_count": 1,
   "metadata": {},
   "outputs": [],
   "source": [
    "%matplotlib inline\n",
    "\n",
    "import matplotlib.pyplot as plt\n",
    "import numpy as np\n",
    "import pandas as pd\n",
    "import random\n",
    "import torch\n",
    "import torch.nn as nn\n",
    "import torch.nn.functional as F\n",
    "import torch.optim as optim\n",
    "\n",
    "from babel.dates import format_date\n",
    "from faker import Faker\n",
    "from torch.utils.data import DataLoader, Dataset"
   ]
  },
  {
   "cell_type": "markdown",
   "metadata": {},
   "source": [
    "## Reproducibility"
   ]
  },
  {
   "cell_type": "code",
   "execution_count": 2,
   "metadata": {},
   "outputs": [],
   "source": [
    "seed = 24\n",
    "Faker.seed(seed)\n",
    "np.random.seed(seed)\n",
    "random.seed(seed)\n",
    "torch.manual_seed(seed);"
   ]
  },
  {
   "cell_type": "markdown",
   "metadata": {},
   "source": [
    "## Device Configuration"
   ]
  },
  {
   "cell_type": "code",
   "execution_count": 3,
   "metadata": {},
   "outputs": [],
   "source": [
    "device = torch.device('cuda:0' if torch.cuda.is_available() else 'cpu')"
   ]
  },
  {
   "cell_type": "markdown",
   "metadata": {},
   "source": [
    "## Dataset\n",
    "\n",
    "We will create a custom dataset that will provide the following:\n",
    "\n",
    "- Each sample is a human-readable date, represented as an array of one-hot encoded indices where each index comes from a vocabulary padded to a length of $T_x=30$\n",
    "- Each corresponding target is a machine-readable date, represented as an array of indices where each index comes from a vocabulary of length $T_y=10$ (the form YYYY-MM-DD)\n",
    "- 10,000 training examples\n",
    "\n",
    "We will also generate the following dictionaries:\n",
    "\n",
    "- `human_to_idx`: mapping all characters used in the human-readable dates to indices including two special characters: `<UNK>` and `<PAD>`\n",
    "- `machine_to_idx`: mapping all characters used in machine-readable dates to indices\n",
    "- `idx_to_machine`: mapping from indices back to machine-readable characters"
   ]
  },
  {
   "cell_type": "code",
   "execution_count": 4,
   "metadata": {},
   "outputs": [],
   "source": [
    "# Generate fake dates as training examples\n",
    "# Code taken from the Deep Learning Specialization assignment\n",
    "formats = ['short', 'medium', 'long', 'full', 'full', 'full', 'full', 'full', 'full', 'full', 'full', 'full', 'full', 'd MMM YYY', 'd MMMM YYY',\n",
    "           'dd MMM YYY', 'd MMM, YYY', 'd MMMM, YYY', 'dd, MMM YYY', 'd MM YY', 'd MMMM YYY', 'MMMM d YYY', 'MMMM d, YYY', 'dd.MM.YY']\n",
    "\n",
    "fake = Faker()\n",
    "\n",
    "def create_date():\n",
    "    dt = fake.date_object()\n",
    "\n",
    "    try:\n",
    "        human_readable = format_date(dt, format=random.choice(formats),  locale='en_US')\n",
    "        human_readable = human_readable.lower()\n",
    "        human_readable = human_readable.replace(',', '')\n",
    "        machine_readable = dt.isoformat()\n",
    "    except AttributeError as e:\n",
    "        return None, None, None\n",
    "\n",
    "    return human_readable, machine_readable\n",
    "\n",
    "human_vocab = set()\n",
    "machine_vocab = set()\n",
    "dataset = []\n",
    "    \n",
    "\n",
    "for i in range(10000):\n",
    "    h, m = create_date()\n",
    "\n",
    "    if h is not None:\n",
    "        dataset.append((h, m))\n",
    "        human_vocab.update(tuple(h))\n",
    "        machine_vocab.update(tuple(m))\n",
    "\n",
    "    human_to_idx = dict(zip(sorted(human_vocab) + ['<UNK>', '<PAD>'], list(range(len(human_vocab) + 2))))\n",
    "    idx_to_machine = dict(enumerate(sorted(machine_vocab)))\n",
    "    machine_to_idx = {v:k for k, v in idx_to_machine.items()}"
   ]
  },
  {
   "cell_type": "markdown",
   "metadata": {},
   "source": [
    "Let's look at some raw samples before any other preprocessing is applied."
   ]
  },
  {
   "cell_type": "code",
   "execution_count": 5,
   "metadata": {},
   "outputs": [
    {
     "data": {
      "text/plain": [
       "[('june 23 2018', '2018-06-23'),\n",
       " ('sunday january 21 1996', '1996-01-21'),\n",
       " ('29 aug 2009', '2009-08-29'),\n",
       " ('saturday june 5 1982', '1982-06-05'),\n",
       " ('thursday november 8 1984', '1984-11-08'),\n",
       " ('friday may 22 1981', '1981-05-22'),\n",
       " ('friday march 18 1983', '1983-03-18'),\n",
       " ('saturday july 11 1981', '1981-07-11'),\n",
       " ('august 27 2015', '2015-08-27'),\n",
       " ('may 21 2016', '2016-05-21')]"
      ]
     },
     "execution_count": 5,
     "metadata": {},
     "output_type": "execute_result"
    }
   ],
   "source": [
    "dataset[:10]"
   ]
  },
  {
   "cell_type": "code",
   "execution_count": 6,
   "metadata": {},
   "outputs": [],
   "source": [
    "def to_indices(date, length, vocab):\n",
    "    # Taken from the Deep Learning Specialization assignment\n",
    "    date = date.lower().replace(',', '')\n",
    "\n",
    "    # Truncate\n",
    "    if len(date) > length:\n",
    "        date = date[:length]\n",
    "\n",
    "    # Convert to array of indices\n",
    "    date = list(map(lambda x: vocab.get(x, '<UNK>'), date))\n",
    "\n",
    "    # Pad\n",
    "    if len(date) < length:\n",
    "        date += [vocab['<PAD>']] * (length - len(date))\n",
    "\n",
    "    return date\n",
    "\n",
    "def collate_fn(batch):\n",
    "    # We define a custom collate_fn so that we can do the following:\n",
    "    # - Convert human and machine dates into indices, padding/tuncating to Tx=30 and Ty=10, respectively\n",
    "    # - One-hot encode the human dates\n",
    "    human_dates, machine_dates = zip(*batch)\n",
    "\n",
    "    # Compute the original lengths which will be useful for packing the padded sequence\n",
    "    lengths = [len(d) for d in human_dates]\n",
    "    # Convert to indices, padding or truncating to Tx=30\n",
    "    human_dates = torch.tensor([to_indices(d, 30, human_to_idx) for d in human_dates])\n",
    "    # One-hot encode\n",
    "    human_dates = F.one_hot(human_dates, num_classes=len(human_to_idx)).float()\n",
    "\n",
    "    # Convert machine dates to indices\n",
    "    machine_dates = torch.tensor([to_indices(d, 10, machine_to_idx) for d in machine_dates]).long()\n",
    "\n",
    "    return human_dates, machine_dates, lengths\n",
    "\n",
    "\n",
    "class DatesDataset(Dataset):\n",
    "    def __init__(self):\n",
    "        self.X, self.y = zip(*dataset)\n",
    "\n",
    "    def __len__(self):\n",
    "        return len(self.X)\n",
    "\n",
    "    def __getitem__(self, idx):\n",
    "        if torch.is_tensor(idx):\n",
    "            idx = idx.tolist()\n",
    "\n",
    "        X = self.X[idx]\n",
    "        y = self.y[idx]\n",
    "\n",
    "        return X, y"
   ]
  },
  {
   "cell_type": "markdown",
   "metadata": {},
   "source": [
    "We can now create the training set. We use the same batch size (100) as in the Deep Learning Specialization assignment."
   ]
  },
  {
   "cell_type": "code",
   "execution_count": 7,
   "metadata": {},
   "outputs": [],
   "source": [
    "training = DataLoader(DatesDataset(), batch_size=100, shuffle=True, num_workers=4, collate_fn=collate_fn)"
   ]
  },
  {
   "cell_type": "markdown",
   "metadata": {},
   "source": [
    "## Model\n",
    "\n",
    "We'll use a **sequence-to-sequence** model with an attention mechanism as follows:\n",
    "\n",
    "- A pre-attention Bidirectional LSTM with 32 hidden units that takes in the one-hot encoded human-dates\n",
    "- A post-attention LSTM with 64 hidden units that takes in a context vector computed by an attention mechanism\n",
    "- An output layer, with softmax activation, over the vocabulary of the machine-readable dates\n",
    "\n",
    "Note that because our model uses a Bidirectional LSTM the whole input sequence $T_x$ is processed at once. As opposed to processing each timestep $t$ at a time.\n",
    "\n",
    "![](img/model.png)\n",
    "\n",
    "### Attention Mechanism\n",
    "\n",
    "The attention mechanism is computed as follows:\n",
    "\n",
    "- A fully-connected layer with 10 units and tanh activation that takes in all hidden states of the pre-attention Bidirectional LSTM and the previous hidden state of the post-attention LSTM\n",
    "- A second fully-connected layer with 1 unit and ReLU activation\n",
    "- A softmax activation over the previous output\n",
    "\n",
    "![](img/attn_mechanism.png)"
   ]
  },
  {
   "cell_type": "code",
   "execution_count": 8,
   "metadata": {},
   "outputs": [],
   "source": [
    "class Attention(nn.Module):\n",
    "    def __init__(self):\n",
    "        super(Attention, self).__init__()\n",
    "\n",
    "        # Input shape (batch_size, 2 * 32 + 64) where\n",
    "        # - 2 * 32 comes from the activations of pre-attention Bidirectional LSTM\n",
    "        # - 64 comes from the previous hidden state of the post-attention LSTM\n",
    "        self.fc1 = nn.Sequential(nn.Linear(in_features=2 * 32 + 64, out_features=10), nn.Tanh())\n",
    "        self.fc2 = nn.Sequential(nn.Linear(in_features=10, out_features=1), nn.ReLU(inplace=True))\n",
    "\n",
    "    def forward(self, a, s):\n",
    "        # Repeat the previous hidden state of the post-attention LSTM over all timesteps\n",
    "        # The shape will go from (batch_size, 64) to (batch_size, Tx=30, 64)\n",
    "        s = s.unsqueeze(1).repeat(1, 30, 1)\n",
    "        # Concatenate with the activations of the pre-attention Bidirectional LSTM\n",
    "        concatenated = torch.cat([a, s], axis=-1)\n",
    "        # Pass it through the two Fully-Connected layers and compute the weights using softmax over all timesteps\n",
    "        # The shape is (batch_size, Tx=30, 1) so we use dim=1 to apply softmax over the Tx dimension\n",
    "        weights = F.softmax(self.fc2(self.fc1(concatenated)), dim=1)\n",
    "        # Compute the context vector as a weight sum\n",
    "        # We permute the axes of the weights to go from (batch_size, seq_len, 1) to (batch_size, 1, seq_len) to correctly compute the dot product\n",
    "        # We also squeeze dim=1 of the context vector to go from (batch_size, 1, 64) to (batch_size, 64)\n",
    "        context = torch.matmul(weights.permute(0, 2, 1), a).squeeze(1)\n",
    "\n",
    "        return context\n",
    "\n",
    "\n",
    "class Model(nn.Module):\n",
    "    def __init__(self):\n",
    "        super(Model, self).__init__()\n",
    "\n",
    "        # The first LSTM layer expects sequences of size of the length of the human vocab\n",
    "        self.pre_lstm = nn.LSTM(input_size=len(human_to_idx), hidden_size=32, bidirectional=True, batch_first=True)\n",
    "        self.attn = Attention()\n",
    "        # The second LSTM layer takes in the context vector (a weight per each activation of the Bidirectional LSTM)\n",
    "        # We use `LSTMCell` since we will explicitly loop through each timestep of the output (Ty)\n",
    "        self.post_lstm = nn.LSTMCell(input_size=2 * 32, hidden_size=64)\n",
    "        # Output layer to convert to target space (length of the machine vocab)\n",
    "        self.out = nn.Linear(in_features=64, out_features=len(machine_to_idx))\n",
    "        # We don't define a softmax output layer explicitly because it's combined with the loss function\n",
    "\n",
    "    def forward(self, input, lengths):\n",
    "        # Pack the padded sequence so that the layers ignore the padded values during backprop\n",
    "        # See: https://ryankresse.com/dealing-with-pad-tokens-in-sequence-models-loss-masking-and-pytorchs-packed-sequence/\n",
    "        packed = nn.utils.rnn.pack_padded_sequence(input, lengths, batch_first=True, enforce_sorted=False)\n",
    "        # Pass through Bidirectional LSTM to process the full sequence\n",
    "        hiddens, state = self.pre_lstm(packed)\n",
    "        # Since we passed in a packed sequence, we need to \"unpack\" it\n",
    "        # We need to make sure that the unpacking operation respects our initial desired max length of Tx=30 though!\n",
    "        # See: https://towardsdatascience.com/taming-lstms-variable-sized-mini-batches-and-why-pytorch-is-good-for-your-health-61d35642972e\n",
    "        a, _= torch.nn.utils.rnn.pad_packed_sequence(hiddens, batch_first=True, padding_value=human_to_idx['<PAD>'], total_length=30)\n",
    "        # Initialize the hidden and cell states of the post-attention LSTM with shape (batch_size, hidden_size=64)\n",
    "        s = torch.zeros(input.shape[0], 64).float().to(input.device)\n",
    "        c = torch.zeros(input.shape[0], 64).float().to(input.device)\n",
    "        # Holds all the outputs for all timesteps of the output sequence (Ty) of shape (batch_size, Ty=10, len(machine_vocab))\n",
    "        outputs = torch.zeros(input.shape[0], 10, len(machine_to_idx)).to(input.device)\n",
    "\n",
    "        # Generate each output one by one since the attention mechanism requires the previous hidden state from the post-attention LSTM at each step\n",
    "        for i in range(10):\n",
    "            # Pass through attention mechanism to generate the context vector\n",
    "            context = self.attn(a, s)\n",
    "            # Pass through post-attention LSTM\n",
    "            s, c = self.post_lstm(context, (s, c))\n",
    "            # Convert to target space\n",
    "            output = self.out(s)\n",
    "            outputs[:, i, :] = output\n",
    "\n",
    "        return outputs"
   ]
  },
  {
   "cell_type": "code",
   "execution_count": 9,
   "metadata": {},
   "outputs": [
    {
     "name": "stdout",
     "output_type": "stream",
     "text": [
      "Model(\n",
      "  (pre_lstm): LSTM(37, 32, batch_first=True, bidirectional=True)\n",
      "  (attn): Attention(\n",
      "    (fc1): Sequential(\n",
      "      (0): Linear(in_features=128, out_features=10, bias=True)\n",
      "      (1): Tanh()\n",
      "    )\n",
      "    (fc2): Sequential(\n",
      "      (0): Linear(in_features=10, out_features=1, bias=True)\n",
      "      (1): ReLU(inplace=True)\n",
      "    )\n",
      "  )\n",
      "  (post_lstm): LSTMCell(64, 64)\n",
      "  (out): Linear(in_features=64, out_features=11, bias=True)\n",
      ")\n"
     ]
    }
   ],
   "source": [
    "model = Model()\n",
    "print(model)"
   ]
  },
  {
   "cell_type": "markdown",
   "metadata": {},
   "source": [
    "## Optimization\n",
    "\n",
    "We'll use Adam for training the model with the cross-entropy loss. We'll use the same learning rate as in the Deep Learning Specialization assignment."
   ]
  },
  {
   "cell_type": "code",
   "execution_count": 10,
   "metadata": {},
   "outputs": [],
   "source": [
    "loss_fn =  nn.CrossEntropyLoss()\n",
    "optimizer = optim.Adam(model.parameters(), lr=0.005)"
   ]
  },
  {
   "cell_type": "markdown",
   "metadata": {},
   "source": [
    "## Training\n",
    "\n",
    "Time to train the model!"
   ]
  },
  {
   "cell_type": "code",
   "execution_count": 11,
   "metadata": {},
   "outputs": [],
   "source": [
    "# Training configuration\n",
    "epochs = 35"
   ]
  },
  {
   "cell_type": "code",
   "execution_count": 12,
   "metadata": {},
   "outputs": [
    {
     "name": "stdout",
     "output_type": "stream",
     "text": [
      "[0/35]\tLoss: 2.1164774894714355\n",
      "[1/35]\tLoss: 2.0184097290039062\n",
      "[2/35]\tLoss: 1.4495065212249756\n",
      "[3/35]\tLoss: 0.8534033894538879\n",
      "[4/35]\tLoss: 0.7653688192367554\n",
      "[5/35]\tLoss: 0.5815529823303223\n",
      "[6/35]\tLoss: 0.442037969827652\n",
      "[7/35]\tLoss: 0.30376631021499634\n",
      "[8/35]\tLoss: 0.18202467262744904\n",
      "[9/35]\tLoss: 0.10328581929206848\n",
      "[10/35]\tLoss: 0.056844159960746765\n",
      "[11/35]\tLoss: 0.032530777156353\n",
      "[12/35]\tLoss: 0.02193582057952881\n",
      "[13/35]\tLoss: 0.016952818259596825\n",
      "[14/35]\tLoss: 0.013270527124404907\n",
      "[15/35]\tLoss: 0.010394573211669922\n",
      "[16/35]\tLoss: 0.008912596851587296\n",
      "[17/35]\tLoss: 0.007201767060905695\n",
      "[18/35]\tLoss: 0.005956578999757767\n",
      "[19/35]\tLoss: 0.00629280973225832\n",
      "[20/35]\tLoss: 0.0047896746546030045\n",
      "[21/35]\tLoss: 0.004013095051050186\n",
      "[22/35]\tLoss: 0.004252012353390455\n",
      "[23/35]\tLoss: 0.004102514591068029\n",
      "[24/35]\tLoss: 0.003191363764926791\n",
      "[25/35]\tLoss: 0.002497264416888356\n",
      "[26/35]\tLoss: 0.002083725295960903\n",
      "[27/35]\tLoss: 0.002214329782873392\n",
      "[28/35]\tLoss: 0.0018872880609706044\n",
      "[29/35]\tLoss: 0.0019836656283587217\n",
      "[30/35]\tLoss: 0.001940980670042336\n",
      "[31/35]\tLoss: 0.0017568778712302446\n",
      "[32/35]\tLoss: 0.01889551430940628\n",
      "[33/35]\tLoss: 0.01366605143994093\n",
      "[34/35]\tLoss: 0.002621154533699155\n"
     ]
    },
    {
     "data": {
      "image/png": "[encoded data removed]",
      "text/plain": [
       "<Figure size 432x288 with 1 Axes>"
      ]
     },
     "metadata": {
      "needs_background": "light"
     },
     "output_type": "display_data"
    }
   ],
   "source": [
    "# Main training loop\n",
    "model = model.to(device)\n",
    "total_losses = []\n",
    "\n",
    "for epoch in range(epochs):\n",
    "    losses = []\n",
    "\n",
    "    for samples, targets, lengths in training:\n",
    "        optimizer.zero_grad()\n",
    "\n",
    "        samples = samples.to(device)\n",
    "        targets = targets.to(device)\n",
    "\n",
    "        output = model(samples, lengths)\n",
    "\n",
    "        # Reshape the outputs and targets to (batch_size * seq_len, len(machine_vocab)) so the loss can be computed\n",
    "        output = output.view(-1, len(machine_to_idx))\n",
    "        targets = targets.flatten()\n",
    "        loss = loss_fn(output, targets)\n",
    "\n",
    "        loss.backward()\n",
    "        optimizer.step()\n",
    "        \n",
    "        # Detach the loss to avoid saving any more computations on it\n",
    "        losses.append(loss.detach().cpu().numpy())\n",
    "\n",
    "    total_losses.append(np.mean(losses))\n",
    "    print(f'[{epoch}/{epochs}]\\tLoss: {total_losses[-1]}')\n",
    "\n",
    "# Save the model\n",
    "torch.save(model.state_dict(), 'model/model.pt')\n",
    "\n",
    "# Plot the losses\n",
    "plt.plot(np.squeeze(total_losses))\n",
    "plt.ylabel('Avg. Loss')\n",
    "plt.xlabel('Epochs')\n",
    "plt.title('Avg. Loss per Epoch')\n",
    "plt.show()"
   ]
  },
  {
   "cell_type": "markdown",
   "metadata": {},
   "source": [
    "## Testing\n",
    "\n",
    "Now that we have trained our model, we can try it with the same examples from the Deep Learning Specialization assignment"
   ]
  },
  {
   "cell_type": "code",
   "execution_count": 13,
   "metadata": {},
   "outputs": [
    {
     "name": "stdout",
     "output_type": "stream",
     "text": [
      "Human: 3 May 1979\n",
      "Machine: 1979-05-03\n",
      "\n",
      "Human: 5 April 09\n",
      "Machine: 2009-04-05\n",
      "\n",
      "Human: 21th of August 2016\n",
      "Machine: 2016-08-02\n",
      "\n",
      "Human: Tue 10 Jul 2007\n",
      "Machine: 2007-07-10\n",
      "\n",
      "Human: Saturday May 9 2018\n",
      "Machine: 2018-05-09\n",
      "\n",
      "Human: March 3 2001\n",
      "Machine: 2001-03-03\n",
      "\n",
      "Human: March 3rd 2001\n",
      "Machine: 2001-03-03\n",
      "\n",
      "Human: 1 March 2001\n",
      "Machine: 2001-03-01\n",
      "\n"
     ]
    }
   ],
   "source": [
    "# Load the trained model\n",
    "model = Model()\n",
    "model.load_state_dict(torch.load('model/model.pt'))\n",
    "# Always set the mode to `eval` for inference\n",
    "model.eval()\n",
    "model = model.to(device)\n",
    "\n",
    "examples = ['3 May 1979', '5 April 09', '21th of August 2016', 'Tue 10 Jul 2007', 'Saturday May 9 2018', 'March 3 2001', 'March 3rd 2001',\n",
    "            '1 March 2001']\n",
    "\n",
    "for example in examples:\n",
    "    # Preprocess like we did for the training samples\n",
    "    lengths = [len(example)]\n",
    "    human = torch.tensor(to_indices(example, 30, human_to_idx))\n",
    "    human = F.one_hot(human, num_classes=len(human_to_idx)).float()\n",
    "    # Add the batch_size=1 dimension\n",
    "    human = human.unsqueeze(0)\n",
    "\n",
    "    # Predict and grab the most likely index for each timestep of the output sequence\n",
    "    preds = model(human.to(device), lengths).squeeze(0)\n",
    "    preds = F.softmax(preds, dim=-1)\n",
    "    preds = preds.detach().cpu().numpy()\n",
    "    preds = np.argmax(preds, axis=-1)\n",
    "\n",
    "    # Convert back to a machine-readable date\n",
    "    machine = [idx_to_machine[int(i)] for i in preds]\n",
    "\n",
    "    print(f'Human: {example}')\n",
    "    print(f'Machine: {\"\".join(machine)}')\n",
    "    print()"
   ]
  },
  {
   "cell_type": "markdown",
   "metadata": {},
   "source": [
    "Even with a small amount of epochs, the model is able to learn quite well how to translate dates from very different human-readable formats!"
   ]
  }
 ],
 "metadata": {
  "kernelspec": {
   "display_name": "Python 3",
   "language": "python",
   "name": "python3"
  },
  "language_info": {
   "codemirror_mode": {
    "name": "ipython",
    "version": 3
   },
   "file_extension": ".py",
   "mimetype": "text/x-python",
   "name": "python",
   "nbconvert_exporter": "python",
   "pygments_lexer": "ipython3",
   "version": "3.8.5"
  }
 },
 "nbformat": 4,
 "nbformat_minor": 4
}
